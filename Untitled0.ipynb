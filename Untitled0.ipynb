{
  "nbformat": 4,
  "nbformat_minor": 0,
  "metadata": {
    "colab": {
      "name": "Untitled0.ipynb",
      "provenance": [],
      "authorship_tag": "ABX9TyMuWaqHY1g6P09At253UFj/",
      "include_colab_link": true
    },
    "kernelspec": {
      "name": "python3",
      "display_name": "Python 3"
    },
    "language_info": {
      "name": "python"
    }
  },
  "cells": [
    {
      "cell_type": "markdown",
      "metadata": {
        "id": "view-in-github",
        "colab_type": "text"
      },
      "source": [
        "<a href=\"https://colab.research.google.com/github/rodrigoruizteodoro/Anal-tica-de-Datos/blob/main/Untitled0.ipynb\" target=\"_parent\"><img src=\"https://colab.research.google.com/assets/colab-badge.svg\" alt=\"Open In Colab\"/></a>"
      ]
    },
    {
      "cell_type": "code",
      "execution_count": null,
      "metadata": {
        "id": "1wzwFqPgM6zI"
      },
      "outputs": [],
      "source": [
        "!pip install pandas\n",
        "!pip install numpy\n",
        "!pip install matplotlib"
      ]
    },
    {
      "cell_type": "code",
      "source": [
        "from google.colab import files\n",
        "uploaded=files.upload()"
      ],
      "metadata": {
        "id": "zVtkb1DDNb6e"
      },
      "execution_count": null,
      "outputs": []
    },
    {
      "cell_type": "code",
      "source": [
        "import pandas as pd\n",
        "import io\n",
        "\n",
        "#df= pd.read_csv(io.BytesIO(uploaded['file.csv']),index_col=2)\n",
        "df=pd.read_csv('file.csv')\n",
        "df.info()\n",
        "df\n",
        "\n",
        "#GITHUB\n",
        "# url= 'copied_raw_github_link'\n",
        "# df = pd.read_csv(url)"
      ],
      "metadata": {
        "id": "V98xeYpuOO0S"
      },
      "execution_count": null,
      "outputs": []
    },
    {
      "cell_type": "code",
      "source": [
        "#Filtros por objeto\n",
        "f1=df[df[\"Sexo\"]==\"Mujeres\"]\n",
        "f1\n"
      ],
      "metadata": {
        "id": "e2JfHfpEU0Lj"
      },
      "execution_count": null,
      "outputs": []
    },
    {
      "cell_type": "code",
      "source": [
        "f1=df[df[\"Entidad_Federativa\"]==\"Puebla\"]\n",
        "f1"
      ],
      "metadata": {
        "id": "1SjeQxb1Vg5d"
      },
      "execution_count": null,
      "outputs": []
    },
    {
      "cell_type": "code",
      "source": [
        "#Filas no consecutivas\n",
        "f2=df.iloc[[1000,2000,3000],:]\n",
        "f2\n",
        "\n",
        "#Rango\n",
        "f3=df.iloc[50:550,:]\n",
        "f3"
      ],
      "metadata": {
        "id": "vHPwd0WAYJ0W"
      },
      "execution_count": null,
      "outputs": []
    },
    {
      "cell_type": "code",
      "source": [
        "#columnas consecutivas\n",
        "f4=df.iloc[:,2:5]\n",
        "f4\n",
        "#columnas NO consecutivas\n",
        "f5=df.iloc[:,[1,4,6]]\n",
        "f5"
      ],
      "metadata": {
        "id": "m8TmagIhZGgF"
      },
      "execution_count": null,
      "outputs": []
    },
    {
      "cell_type": "code",
      "source": [
        "#FILAS VS COLUMNAS se requiere columna indice\n",
        "df=pd.read_csv(io.BytesIO(uploaded['file.csv']),index_col=2)\n",
        "f5=df.loc[[\"Puebla\",\"Durango\"],[\"Poblacion_ocupada_en_la_industria_manufacturera\"]]\n",
        "f5"
      ],
      "metadata": {
        "id": "nH6HC4E1Z2MI"
      },
      "execution_count": null,
      "outputs": []
    },
    {
      "cell_type": "code",
      "source": [
        "#cabecera\n",
        "f6=df.head()\n",
        "f6"
      ],
      "metadata": {
        "id": "bqF2CoE8bcYY"
      },
      "execution_count": null,
      "outputs": []
    },
    {
      "cell_type": "code",
      "source": [
        "#comparación\n",
        "f6=df[df[\"Periodo\"]>=2006]\n",
        "f6"
      ],
      "metadata": {
        "id": "fPfRJA9VbtS2"
      },
      "execution_count": null,
      "outputs": []
    },
    {
      "cell_type": "code",
      "source": [
        "#conectores logicos las 2\n",
        "f7=df[(df[\"Periodo\"]>2006)&(df[\"Sexo\"]==\"Mujeres\")]\n",
        "f7"
      ],
      "metadata": {
        "id": "F7LLKXvdbtZq"
      },
      "execution_count": null,
      "outputs": []
    },
    {
      "cell_type": "code",
      "source": [
        "#filtro o una u otras\n",
        "f8=df[(df[\"Periodo\"]>2020)|(df[\"Sexo\"]==\"Hombre\")]\n",
        "f8"
      ],
      "metadata": {
        "id": "R6ZrgExXdTjR"
      },
      "execution_count": null,
      "outputs": []
    },
    {
      "cell_type": "code",
      "source": [
        "#filtro not negación\n",
        "f9=df[~(df[\"Periodo\"]>2006)&(df[\"Sexo\"]==\"Mujeres\")]\n",
        "f9"
      ],
      "metadata": {
        "id": "9rQjqvvaeDBW"
      },
      "execution_count": null,
      "outputs": []
    },
    {
      "cell_type": "code",
      "source": [
        "f9.to_csv(\"Entregable1.csv\")\n",
        "from google.colab import files\n",
        "files.download(\"Entregable1.csv\")"
      ],
      "metadata": {
        "colab": {
          "base_uri": "https://localhost:8080/",
          "height": 17
        },
        "id": "BjTd1jspexV7",
        "outputId": "ed699f77-8969-4a6f-f977-8cdea3d8671c"
      },
      "execution_count": 54,
      "outputs": [
        {
          "output_type": "display_data",
          "data": {
            "text/plain": [
              "<IPython.core.display.Javascript object>"
            ],
            "application/javascript": [
              "\n",
              "    async function download(id, filename, size) {\n",
              "      if (!google.colab.kernel.accessAllowed) {\n",
              "        return;\n",
              "      }\n",
              "      const div = document.createElement('div');\n",
              "      const label = document.createElement('label');\n",
              "      label.textContent = `Downloading \"${filename}\": `;\n",
              "      div.appendChild(label);\n",
              "      const progress = document.createElement('progress');\n",
              "      progress.max = size;\n",
              "      div.appendChild(progress);\n",
              "      document.body.appendChild(div);\n",
              "\n",
              "      const buffers = [];\n",
              "      let downloaded = 0;\n",
              "\n",
              "      const channel = await google.colab.kernel.comms.open(id);\n",
              "      // Send a message to notify the kernel that we're ready.\n",
              "      channel.send({})\n",
              "\n",
              "      for await (const message of channel.messages) {\n",
              "        // Send a message to notify the kernel that we're ready.\n",
              "        channel.send({})\n",
              "        if (message.buffers) {\n",
              "          for (const buffer of message.buffers) {\n",
              "            buffers.push(buffer);\n",
              "            downloaded += buffer.byteLength;\n",
              "            progress.value = downloaded;\n",
              "          }\n",
              "        }\n",
              "      }\n",
              "      const blob = new Blob(buffers, {type: 'application/binary'});\n",
              "      const a = document.createElement('a');\n",
              "      a.href = window.URL.createObjectURL(blob);\n",
              "      a.download = filename;\n",
              "      div.appendChild(a);\n",
              "      a.click();\n",
              "      div.remove();\n",
              "    }\n",
              "  "
            ]
          },
          "metadata": {}
        },
        {
          "output_type": "display_data",
          "data": {
            "text/plain": [
              "<IPython.core.display.Javascript object>"
            ],
            "application/javascript": [
              "download(\"download_0255d1bd-913a-4e26-a48c-2bc492d23f6e\", \"Entregable1.csv\", 16890)"
            ]
          },
          "metadata": {}
        }
      ]
    }
  ]
}